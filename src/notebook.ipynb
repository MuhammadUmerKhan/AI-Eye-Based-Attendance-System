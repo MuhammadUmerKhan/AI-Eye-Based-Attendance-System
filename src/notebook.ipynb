{
 "cells": [
  {
   "cell_type": "code",
   "execution_count": 1,
   "metadata": {},
   "outputs": [
    {
     "name": "stdout",
     "output_type": "stream",
     "text": [
      "WARNING:tensorflow:From c:\\AI-Eye-Based-Attendance-System\\.venv\\Lib\\site-packages\\tf_keras\\src\\losses.py:2976: The name tf.losses.sparse_softmax_cross_entropy is deprecated. Please use tf.compat.v1.losses.sparse_softmax_cross_entropy instead.\n",
      "\n"
     ]
    }
   ],
   "source": [
    "import cv2\n",
    "import mediapipe as mp\n",
    "import numpy as np\n",
    "from deepface import DeepFace"
   ]
  },
  {
   "cell_type": "code",
   "execution_count": 5,
   "id": "3c845d5b",
   "metadata": {},
   "outputs": [],
   "source": [
    "def preprocess_eye_region(img):\n",
    "    \"\"\"\n",
    "    Preprocess eye region for consistent embedding extraction.\n",
    "    \"\"\"\n",
    "    try:\n",
    "        gray = cv2.cvtColor(img, cv2.COLOR_BGR2GRAY)\n",
    "        equalized = cv2.equalizeHist(gray)\n",
    "        result = cv2.cvtColor(equalized, cv2.COLOR_GRAY2RGB)\n",
    "        \n",
    "        return result\n",
    "    except Exception as e:\n",
    "        \n",
    "        return None\n",
    "\n",
    "def crop_both_eyes_region_mediapipe(image_input):\n",
    "    \"\"\"\n",
    "    Extract eye region from an image using MediaPipe Face Mesh.\n",
    "    Accepts either a file path or a file-like object.\n",
    "    Returns cropped eye region and bounding box coordinates.\n",
    "    \"\"\"\n",
    "    try:\n",
    "        if isinstance(image_input, str):\n",
    "            img = cv2.imread(image_input)\n",
    "            if img is None:\n",
    "                \n",
    "                return None, None\n",
    "        else:\n",
    "            # Handle file-like object (e.g., from Streamlit file_uploader)\n",
    "            file_bytes = np.asarray(bytearray(image_input.read()), dtype=np.uint8)\n",
    "            img = cv2.imdecode(file_bytes, cv2.IMREAD_COLOR)\n",
    "            if img is None:\n",
    "                \n",
    "                return None, None\n",
    "        \n",
    "        rgb_img = cv2.cvtColor(img, cv2.COLOR_BGR2RGB)\n",
    "        \n",
    "        mp_face_mesh = mp.solutions.face_mesh\n",
    "        face_mesh = mp_face_mesh.FaceMesh(max_num_faces=1, min_detection_confidence=0.5)\n",
    "        \n",
    "        results = face_mesh.process(rgb_img)\n",
    "        if results.multi_face_landmarks:\n",
    "            landmarks = results.multi_face_landmarks[0].landmark\n",
    "            h, w, _ = img.shape\n",
    "            \n",
    "            # Eye landmark indices for left and right eyes\n",
    "            left_eye = [33, 133, 160, 159, 158, 157, 173]\n",
    "            right_eye = [362, 382, 387, 386, 385, 384, 398]\n",
    "            \n",
    "            x_coords = [landmark.x * w for landmark in landmarks for idx in left_eye + right_eye if landmark == landmarks[idx]]\n",
    "            y_coords = [landmark.y * h for landmark in landmarks for idx in left_eye + right_eye if landmark == landmarks[idx]]\n",
    "            \n",
    "            x_min = max(0, int(min(x_coords)) - 10)\n",
    "            x_max = min(w, int(max(x_coords)) + 10)\n",
    "            y_min = max(0, int(min(y_coords)) - 5)\n",
    "            y_max = min(h, int(max(y_coords)) + 5)\n",
    "            \n",
    "            face_mesh.close()\n",
    "            \n",
    "            return img[y_min:y_max, x_min:x_max], (x_min, y_min, x_max, y_max)\n",
    "        \n",
    "        face_mesh.close()\n",
    "        \n",
    "        return None, None\n",
    "    except Exception as e:\n",
    "        \n",
    "        return None, None\n",
    "\n",
    "def extract_embedding(image_input, model_name=\"ArcFace\"):\n",
    "    \"\"\"\n",
    "    Extract embedding from the eye region of an image.\n",
    "    Accepts either a file path or a file-like object.\n",
    "    Returns embedding, bounding box, and error message (if any).\n",
    "    \"\"\"\n",
    "    try:\n",
    "        eye_region, bbox = crop_both_eyes_region_mediapipe(image_input)\n",
    "        if eye_region is None:\n",
    "            \n",
    "            return None, None, \"Failed to detect eye region\"\n",
    "        \n",
    "        eye_region = preprocess_eye_region(eye_region)\n",
    "        if eye_region is None:\n",
    "            \n",
    "            return None, None, \"Failed to preprocess eye region\"\n",
    "        \n",
    "        # Pass image array directly to DeepFace\n",
    "        embedding = DeepFace.represent(\n",
    "            img_path=eye_region,\n",
    "            model_name=model_name,\n",
    "            enforce_detection=False\n",
    "        )[0][\"embedding\"]\n",
    "        \n",
    "        return np.array(embedding), bbox, None\n",
    "    except Exception as e:\n",
    "        \n",
    "        return None, None, f\"Embedding extraction failed: {str(e)}\""
   ]
  },
  {
   "cell_type": "code",
   "execution_count": 6,
   "id": "9cfc2be9",
   "metadata": {},
   "outputs": [
    {
     "data": {
      "text/plain": [
       "(None,\n",
       " None,\n",
       " \"Embedding extraction failed: 'KerasHistory' object has no attribute 'layer'\")"
      ]
     },
     "execution_count": 6,
     "metadata": {},
     "output_type": "execute_result"
    }
   ],
   "source": [
    "# crop_both_eyes_region_mediapipe(\"../images/train_imgs/1234.jpg\")\n",
    "extract_embedding(\"../images/train_imgs/1234.jpg\")"
   ]
  },
  {
   "cell_type": "code",
   "execution_count": null,
   "id": "1280e42e",
   "metadata": {},
   "outputs": [],
   "source": []
  }
 ],
 "metadata": {
  "kernelspec": {
   "display_name": ".venv",
   "language": "python",
   "name": "python3"
  },
  "language_info": {
   "codemirror_mode": {
    "name": "ipython",
    "version": 3
   },
   "file_extension": ".py",
   "mimetype": "text/x-python",
   "name": "python",
   "nbconvert_exporter": "python",
   "pygments_lexer": "ipython3",
   "version": "3.12.8"
  }
 },
 "nbformat": 4,
 "nbformat_minor": 5
}
